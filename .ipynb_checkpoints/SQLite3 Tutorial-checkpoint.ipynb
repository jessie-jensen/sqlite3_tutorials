{
 "cells": [
  {
   "cell_type": "markdown",
   "metadata": {},
   "source": [
    "##SQLite3 Tutorial\n",
    "\n",
    "From here:\n",
    "https://www.tutorialspoint.com/sqlite/sqlite_python.htm"
   ]
  },
  {
   "cell_type": "code",
   "execution_count": 1,
   "metadata": {
    "collapsed": false
   },
   "outputs": [
    {
     "data": {
      "text/plain": [
       "'2.6.0'"
      ]
     },
     "execution_count": 1,
     "metadata": {},
     "output_type": "execute_result"
    }
   ],
   "source": [
    "import sqlite3\n",
    "sqlite3.version"
   ]
  },
  {
   "cell_type": "code",
   "execution_count": 2,
   "metadata": {
    "collapsed": false
   },
   "outputs": [
    {
     "data": {
      "text/plain": [
       "'3.6.21'"
      ]
     },
     "execution_count": 2,
     "metadata": {},
     "output_type": "execute_result"
    }
   ],
   "source": [
    "sqlite3.sqlite_version"
   ]
  },
  {
   "cell_type": "code",
   "execution_count": 3,
   "metadata": {
    "collapsed": false
   },
   "outputs": [
    {
     "name": "stdout",
     "output_type": "stream",
     "text": [
      "db open success\n"
     ]
    }
   ],
   "source": [
    "# creates db in current directory / opens connection\n",
    "conn = sqlite3.connect('test.db')\n",
    "\n",
    "print \"db open success\""
   ]
  },
  {
   "cell_type": "code",
   "execution_count": 4,
   "metadata": {
    "collapsed": false
   },
   "outputs": [
    {
     "name": "stdout",
     "output_type": "stream",
     "text": [
      "COMPANY table created [cue fanfare]\n"
     ]
    }
   ],
   "source": [
    "# create a table\n",
    "conn.execute('''CREATE TABLE COMPANY\n",
    "       (ID INT PRIMARY KEY     NOT NULL,\n",
    "       NAME           TEXT    NOT NULL,\n",
    "       AGE            INT     NOT NULL,\n",
    "       ADDRESS        CHAR(50),\n",
    "       SALARY         REAL);''')\n",
    "\n",
    "print \"COMPANY table created [cue fanfare]\""
   ]
  },
  {
   "cell_type": "code",
   "execution_count": 5,
   "metadata": {
    "collapsed": false
   },
   "outputs": [
    {
     "name": "stdout",
     "output_type": "stream",
     "text": [
      "records added [fireworks]\n"
     ]
    }
   ],
   "source": [
    "# insert rows\n",
    "conn.execute(\"INSERT INTO COMPANY (ID,NAME,AGE,ADDRESS,SALARY) \\\n",
    "      VALUES (1, 'Paul', 32, 'California', 20000.00 )\");\n",
    "\n",
    "conn.execute(\"INSERT INTO COMPANY (ID,NAME,AGE,ADDRESS,SALARY) \\\n",
    "      VALUES (2, 'Allen', 25, 'Texas', 15000.00 )\");\n",
    "\n",
    "conn.execute(\"INSERT INTO COMPANY (ID,NAME,AGE,ADDRESS,SALARY) \\\n",
    "      VALUES (3, 'Teddy', 23, 'Norway', 20000.00 )\");\n",
    "\n",
    "conn.execute(\"INSERT INTO COMPANY (ID,NAME,AGE,ADDRESS,SALARY) \\\n",
    "      VALUES (4, 'Mark', 25, 'Rich-Mond ', 65000.00 )\");\n",
    "\n",
    "print \"records added [fireworks]\""
   ]
  },
  {
   "cell_type": "code",
   "execution_count": 6,
   "metadata": {
    "collapsed": false
   },
   "outputs": [
    {
     "name": "stdout",
     "output_type": "stream",
     "text": [
      "(1, u'Paul', 32, u'California', 20000.0)\n",
      "(2, u'Allen', 25, u'Texas', 15000.0)\n",
      "(3, u'Teddy', 23, u'Norway', 20000.0)\n",
      "(4, u'Mark', 25, u'Rich-Mond ', 65000.0)\n"
     ]
    }
   ],
   "source": [
    "# select\n",
    "cursor = conn.execute('SELECT * FROM COMPANY')\n",
    "for row in cursor:\n",
    "    print row"
   ]
  },
  {
   "cell_type": "code",
   "execution_count": 7,
   "metadata": {
    "collapsed": false
   },
   "outputs": [
    {
     "name": "stdout",
     "output_type": "stream",
     "text": [
      "(1, u'Paul', 32, u'California', 20000.0)\n",
      "(3, u'Teddy', 23, u'Norway', 20000.0)\n",
      "(4, u'Mark', 25, u'Rich-Mond ', 65000.0)\n"
     ]
    }
   ],
   "source": [
    "conn.execute('DELETE FROM COMPANY WHERE ID=2')\n",
    "\n",
    "cursor = conn.execute('SELECT * FROM COMPANY')\n",
    "for row in cursor:\n",
    "    print row"
   ]
  },
  {
   "cell_type": "code",
   "execution_count": 8,
   "metadata": {
    "collapsed": false
   },
   "outputs": [
    {
     "data": {
      "text/plain": [
       "<sqlite3.Cursor at 0x337ef80>"
      ]
     },
     "execution_count": 8,
     "metadata": {},
     "output_type": "execute_result"
    }
   ],
   "source": [
    "conn.execute('DROP TABLE COMPANY')"
   ]
  },
  {
   "cell_type": "code",
   "execution_count": 9,
   "metadata": {
    "collapsed": true
   },
   "outputs": [],
   "source": [
    "conn.close()"
   ]
  }
 ],
 "metadata": {
  "kernelspec": {
   "display_name": "Python 2",
   "language": "python",
   "name": "python2"
  },
  "language_info": {
   "codemirror_mode": {
    "name": "ipython",
    "version": 2
   },
   "file_extension": ".py",
   "mimetype": "text/x-python",
   "name": "python",
   "nbconvert_exporter": "python",
   "pygments_lexer": "ipython2",
   "version": "2.7.10"
  }
 },
 "nbformat": 4,
 "nbformat_minor": 0
}
